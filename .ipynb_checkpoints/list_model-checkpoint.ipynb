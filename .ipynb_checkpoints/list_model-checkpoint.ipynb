{
 "cells": [
  {
   "cell_type": "code",
   "execution_count": 1,
   "id": "8d158e18-d2c1-43f6-b3c6-09b3aec902a6",
   "metadata": {},
   "outputs": [],
   "source": [
    "import pandas as pd\n",
    "from huggingface_hub import HfApi"
   ]
  },
  {
   "cell_type": "code",
   "execution_count": null,
   "id": "ac04d927-c717-4854-a27e-67193abba194",
   "metadata": {},
   "outputs": [
    {
     "name": "stdout",
     "output_type": "stream",
     "text": [
      "hello\n"
     ]
    }
   ],
   "source": [
    "print(\"hello\")\n",
    "api = HfApi()\n",
    "print(list(api.list_models()))"
   ]
  },
  {
   "cell_type": "code",
   "execution_count": null,
   "id": "f0497c9a-4101-4669-a4fd-64f458e8ba48",
   "metadata": {},
   "outputs": [],
   "source": [
    "# Function to search for models with filtering options\n",
    "def search_models(query=None, task=None, library=None, limit=20):\n",
    "    \"\"\"\n",
    "    Search for models on the Hugging Face Hub with various filters.\n",
    "    \n",
    "    Parameters:\n",
    "    - query (str, optional): Text to search for in model names or descriptions\n",
    "    - task (str, optional): Filter by specific task (e.g., 'text-classification', 'translation')\n",
    "    - library (str, optional): Filter by library (e.g., 'pytorch', 'tensorflow')\n",
    "    - limit (int): Maximum number of results to return\n",
    "    \n",
    "    Returns:\n",
    "    - DataFrame containing model information\n",
    "    \"\"\"\n",
    "    # Create a model filter\n",
    "    model_filter = ModelFilter(\n",
    "        task=task,\n",
    "        library=library\n",
    "    )\n",
    "    \n",
    "    # Get models that match the filter\n",
    "    models = api.list_models(\n",
    "        filter=model_filter,\n",
    "        search=query,\n",
    "        limit=limit\n",
    "    )\n",
    "    \n",
    "    # Convert to a list of dictionaries for easier manipulation\n",
    "    models_list = []\n",
    "    for model in models:\n",
    "        model_info = {\n",
    "            'id': model.id,\n",
    "            'downloads': model.downloads,\n",
    "            'likes': model.likes,\n",
    "            'task': model.pipeline_tag,\n",
    "            'library': model.library,\n",
    "            'tags': model.tags\n",
    "        }\n",
    "        models_list.append(model_info)\n",
    "    \n",
    "    # Convert to DataFrame\n",
    "    return pd.DataFrame(models_list)"
   ]
  },
  {
   "cell_type": "code",
   "execution_count": null,
   "id": "34b0e563-4585-4135-bff2-06c68a5ac0e7",
   "metadata": {},
   "outputs": [],
   "source": [
    "print(\"Top 10 Most Popular Models (by downloads):\")\n",
    "popular_models = search_models(limit=10)\n",
    "popular_models = popular_models.sort_values('downloads', ascending=False)\n",
    "display(popular_models)"
   ]
  },
  {
   "cell_type": "code",
   "execution_count": null,
   "id": "14058d4e-2d48-4e2d-bba8-db6700bfeaf7",
   "metadata": {},
   "outputs": [],
   "source": [
    "a = 5 + 3\n",
    "print(a)"
   ]
  },
  {
   "cell_type": "code",
   "execution_count": null,
   "id": "ae255390-9311-40e8-808b-3b0611554088",
   "metadata": {},
   "outputs": [],
   "source": []
  }
 ],
 "metadata": {
  "kernelspec": {
   "display_name": "huggingface-course",
   "language": "python",
   "name": "huggingface-course"
  },
  "language_info": {
   "codemirror_mode": {
    "name": "ipython",
    "version": 3
   },
   "file_extension": ".py",
   "mimetype": "text/x-python",
   "name": "python",
   "nbconvert_exporter": "python",
   "pygments_lexer": "ipython3",
   "version": "3.10.12"
  }
 },
 "nbformat": 4,
 "nbformat_minor": 5
}
